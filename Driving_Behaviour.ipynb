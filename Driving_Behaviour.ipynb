{
  "nbformat": 4,
  "nbformat_minor": 0,
  "metadata": {
    "colab": {
      "provenance": [],
      "authorship_tag": "ABX9TyOKfUJciJ6Hl5jJdlMQa36g",
      "include_colab_link": true
    },
    "kernelspec": {
      "name": "python3",
      "display_name": "Python 3"
    },
    "language_info": {
      "name": "python"
    }
  },
  "cells": [
    {
      "cell_type": "markdown",
      "metadata": {
        "id": "view-in-github",
        "colab_type": "text"
      },
      "source": [
        "<a href=\"https://colab.research.google.com/github/VasilescuBogdan/Driving-Behaviour/blob/main/Driving_Behaviour.ipynb\" target=\"_parent\"><img src=\"https://colab.research.google.com/assets/colab-badge.svg\" alt=\"Open In Colab\"/></a>"
      ]
    },
    {
      "cell_type": "code",
      "execution_count": null,
      "metadata": {
        "id": "xb9tjOUiJLlH"
      },
      "outputs": [],
      "source": [
        "import numpy as np \n",
        "import pandas as pd \n",
        "from sklearn.ensemble import AdaBoostClassifier\n",
        "train_d = pd.read_csv(\"train_motion_data.csv\")\n",
        "props = ['AccX', 'AccY', 'AccZ', 'GyroX', 'GyroY', 'GyroZ']\n",
        "x = train_d[props].dropna()\n",
        "y = train_d['Class']\n",
        "test_d = pd.read_csv(\"Test.csv\")\n",
        "x_test = test_d[props].dropna()\n",
        "clf = AdaBoostClassifier(n_estimators=10)\n",
        "clf = clf.fit(x, y)\n",
        "pred = clf.predict(x_test)\n",
        "id = test_d['ID'].dropna()\n",
        "Results= pd.DataFrame(pred, columns=['Class'])\n",
        "Results.index.name='ID'\n",
        "Results.index += 1\n",
        "Results.to_csv('Results.csv', header= 'Class', index='true')"
      ]
    }
  ]
}